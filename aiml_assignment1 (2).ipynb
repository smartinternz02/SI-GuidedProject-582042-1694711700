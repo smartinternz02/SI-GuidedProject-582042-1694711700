{
  "nbformat": 4,
  "nbformat_minor": 0,
  "metadata": {
    "colab": {
      "provenance": []
    },
    "kernelspec": {
      "name": "python3",
      "display_name": "Python 3"
    },
    "language_info": {
      "name": "python"
    }
  },
  "cells": [
    {
      "cell_type": "code",
      "execution_count": null,
      "metadata": {
        "id": "oYhKTYFxUDmr"
      },
      "outputs": [],
      "source": [
        "#Task 1 - Create a pandas dataframe (Dataframe name as 'df') with 10 observations and 5 features\n",
        "#21bce2472 Jeyavvanth.R\n",
        "import pandas as pd\n",
        "import numpy as np\n",
        "\n",
        "data = {\n",
        "    'Feature1': [1,2,3,4,5,6,7,8,9,10],\n",
        "    'Feature2': [100,99,98,97,96,95,94,93,92,91],\n",
        "    'Feature3': ['A', 'B', 'C', 'D', 'E', 'F', 'G', 'H', 'I', 'J'],\n",
        "    'Feature4': [True, False, True, False, True, False, True, False, np.nan, False],\n",
        "    'Feature5': [-1.0,0.9,-0.8,0.7,0.6,-0.5,0.4,-0.3,-0.2,0.1]\n",
        "}\n",
        "\n",
        "df = pd.DataFrame(data)"
      ]
    },
    {
      "cell_type": "code",
      "source": [
        "#Task 2 - Check the info of 'df'\n",
        "#21bce2472 Jeyavvanth.R\n",
        "print(\"Info of 'df':\")\n",
        "print(df.info())"
      ],
      "metadata": {
        "colab": {
          "base_uri": "https://localhost:8080/"
        },
        "id": "AOTu942iVfvr",
        "outputId": "f212a927-d59b-42d8-cca1-6c106d56a8c8"
      },
      "execution_count": null,
      "outputs": [
        {
          "output_type": "stream",
          "name": "stdout",
          "text": [
            "Info of 'df':\n",
            "<class 'pandas.core.frame.DataFrame'>\n",
            "RangeIndex: 10 entries, 0 to 9\n",
            "Data columns (total 5 columns):\n",
            " #   Column    Non-Null Count  Dtype  \n",
            "---  ------    --------------  -----  \n",
            " 0   Feature1  10 non-null     int64  \n",
            " 1   Feature2  10 non-null     int64  \n",
            " 2   Feature3  10 non-null     object \n",
            " 3   Feature4  9 non-null      object \n",
            " 4   Feature5  10 non-null     float64\n",
            "dtypes: float64(1), int64(2), object(2)\n",
            "memory usage: 528.0+ bytes\n",
            "None\n"
          ]
        }
      ]
    },
    {
      "cell_type": "code",
      "source": [
        "#Task 3 - Check the description statistics of df\n",
        "#21bce2472 Jeyavvanth.R\n",
        "print(\"Description statistics of 'df':\")\n",
        "print(df.describe())"
      ],
      "metadata": {
        "colab": {
          "base_uri": "https://localhost:8080/"
        },
        "id": "_eo_sjbhWUx_",
        "outputId": "6607d0aa-f1f3-4460-8f6e-6b502569752f"
      },
      "execution_count": null,
      "outputs": [
        {
          "output_type": "stream",
          "name": "stdout",
          "text": [
            "Description statistics of 'df':\n",
            "       Feature1   Feature2   Feature5\n",
            "count  10.00000   10.00000  10.000000\n",
            "mean    5.50000   95.50000  -0.010000\n",
            "std     3.02765    3.02765   0.653962\n",
            "min     1.00000   91.00000  -1.000000\n",
            "25%     3.25000   93.25000  -0.450000\n",
            "50%     5.50000   95.50000  -0.050000\n",
            "75%     7.75000   97.75000   0.550000\n",
            "max    10.00000  100.00000   0.900000\n"
          ]
        }
      ]
    },
    {
      "cell_type": "code",
      "source": [
        "#Task 4 - Check the 4th index observation with 'loc' slicing operator\n",
        "#21bce2472 Jeyavvanth.R\n",
        "print(\"4th index observation:\")\n",
        "print(df.loc[3])"
      ],
      "metadata": {
        "colab": {
          "base_uri": "https://localhost:8080/"
        },
        "id": "-ts7SlUzWjt5",
        "outputId": "5762c4b6-f933-40a4-9c46-1326cd7aeb86"
      },
      "execution_count": null,
      "outputs": [
        {
          "output_type": "stream",
          "name": "stdout",
          "text": [
            "4th index observation:\n",
            "Feature1        4\n",
            "Feature2       97\n",
            "Feature3        D\n",
            "Feature4    False\n",
            "Feature5      0.7\n",
            "Name: 3, dtype: object\n"
          ]
        }
      ]
    },
    {
      "cell_type": "code",
      "source": [
        "#Task 5 - Check the null values in 'df'\n",
        "#21bce2472 Jeyavvanth.R\n",
        "print(\"Null values in 'df':\")\n",
        "print(df.isnull().sum())"
      ],
      "metadata": {
        "colab": {
          "base_uri": "https://localhost:8080/"
        },
        "id": "DhOXeDCjWsx7",
        "outputId": "6a42acaf-4f6d-4093-9831-203e486e399d"
      },
      "execution_count": null,
      "outputs": [
        {
          "output_type": "stream",
          "name": "stdout",
          "text": [
            "Null values in 'df':\n",
            "Feature1    0\n",
            "Feature2    0\n",
            "Feature3    0\n",
            "Feature4    1\n",
            "Feature5    0\n",
            "dtype: int64\n"
          ]
        }
      ]
    }
  ]
}